{
 "cells": [
  {
   "cell_type": "code",
   "execution_count": 36,
   "metadata": {},
   "outputs": [
    {
     "name": "stdout",
     "output_type": "stream",
     "text": [
      "3\n"
     ]
    }
   ],
   "source": [
    "# def hi1():\n",
    "#     print('Hi1 ~~~')\n",
    "# hi1()\n",
    "\n",
    "# def hi2():\n",
    "#     return \"Hi2 ~!@#$\"\n",
    "# a = hi2()\n",
    "# print(a)\n",
    "\n",
    "def add(n1, n2):\n",
    "    return n1 + n2\n",
    "print(add(1,2))"
   ]
  }
 ],
 "metadata": {
  "kernelspec": {
   "display_name": "Python 3",
   "language": "python",
   "name": "python3"
  },
  "language_info": {
   "codemirror_mode": {
    "name": "ipython",
    "version": 3
   },
   "file_extension": ".py",
   "mimetype": "text/x-python",
   "name": "python",
   "nbconvert_exporter": "python",
   "pygments_lexer": "ipython3",
   "version": "3.11.1 (tags/v3.11.1:a7a450f, Dec  6 2022, 19:58:39) [MSC v.1934 64 bit (AMD64)]"
  },
  "orig_nbformat": 4,
  "vscode": {
   "interpreter": {
    "hash": "d56d825054b9602a007a8be841b15cf0e655b5a74d42c12cfff5f827ff410796"
   }
  }
 },
 "nbformat": 4,
 "nbformat_minor": 2
}
