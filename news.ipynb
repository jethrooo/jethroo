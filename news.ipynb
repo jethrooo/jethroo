{
 "cells": [
  {
   "cell_type": "code",
   "execution_count": 10,
   "metadata": {},
   "outputs": [
    {
     "name": "stdout",
     "output_type": "stream",
     "text": [
      "None None https://n.news.naver.com/article/055/0001028123?ntype=RANKING\n",
      "None None https://n.news.naver.com/article/055/0001028114?ntype=RANKING\n",
      "None None https://n.news.naver.com/article/055/0001028116?ntype=RANKING\n",
      "None None https://n.news.naver.com/article/055/0001028113?ntype=RANKING\n",
      "None None https://n.news.naver.com/article/055/0001028112?ntype=RANKING\n",
      "None None https://n.news.naver.com/article/469/0000718256?ntype=RANKING\n",
      "None None https://n.news.naver.com/article/469/0000718260?ntype=RANKING\n",
      "None None https://n.news.naver.com/article/469/0000718266?ntype=RANKING\n",
      "None None https://n.news.naver.com/article/469/0000718261?ntype=RANKING\n",
      "None None https://n.news.naver.com/article/469/0000718257?ntype=RANKING\n",
      "None None https://n.news.naver.com/article/016/0002090411?ntype=RANKING\n",
      "None None https://n.news.naver.com/article/016/0002090727?ntype=RANKING\n",
      "None None https://n.news.naver.com/article/016/0002090678?ntype=RANKING\n",
      "None None https://n.news.naver.com/article/016/0002090715?ntype=RANKING\n",
      "None None https://n.news.naver.com/article/016/0002090729?ntype=RANKING\n",
      "None None https://n.news.naver.com/article/047/0002379125?ntype=RANKING\n",
      "None None https://n.news.naver.com/article/047/0002379141?ntype=RANKING\n",
      "None None https://n.news.naver.com/article/047/0002379124?ntype=RANKING\n",
      "None None https://n.news.naver.com/article/047/0002379132?ntype=RANKING\n",
      "None None https://n.news.naver.com/article/047/0002379139?ntype=RANKING\n",
      "None None https://n.news.naver.com/article/030/0003072418?ntype=RANKING\n",
      "None None https://n.news.naver.com/article/030/0003072508?ntype=RANKING\n",
      "None None https://n.news.naver.com/article/030/0003072453?ntype=RANKING\n",
      "None None https://n.news.naver.com/article/030/0003072541?ntype=RANKING\n",
      "None None https://n.news.naver.com/article/030/0003072511?ntype=RANKING\n",
      "None None https://n.news.naver.com/article/023/0003740391?ntype=RANKING\n",
      "None None https://n.news.naver.com/article/023/0003740449?ntype=RANKING\n",
      "None None https://n.news.naver.com/article/023/0003740421?ntype=RANKING\n",
      "None None https://n.news.naver.com/article/023/0003740448?ntype=RANKING\n",
      "None None https://n.news.naver.com/article/023/0003740454?ntype=RANKING\n",
      "None None https://n.news.naver.com/article/005/0001579968?ntype=RANKING\n",
      "None None https://n.news.naver.com/article/005/0001579955?ntype=RANKING\n",
      "None None https://n.news.naver.com/article/005/0001579969?ntype=RANKING\n",
      "None None https://n.news.naver.com/article/005/0001579974?ntype=RANKING\n",
      "None None https://n.news.naver.com/article/005/0001579965?ntype=RANKING\n",
      "None None https://n.news.naver.com/article/025/0003253220?ntype=RANKING\n",
      "None None https://n.news.naver.com/article/025/0003253264?ntype=RANKING\n",
      "None None https://n.news.naver.com/article/025/0003253267?ntype=RANKING\n",
      "None None https://n.news.naver.com/article/025/0003253243?ntype=RANKING\n",
      "None None https://n.news.naver.com/article/025/0003253238?ntype=RANKING\n",
      "None None https://n.news.naver.com/article/081/0003332320?ntype=RANKING\n",
      "None None https://n.news.naver.com/article/081/0003332335?ntype=RANKING\n",
      "None None https://n.news.naver.com/article/081/0003332332?ntype=RANKING\n",
      "None None https://n.news.naver.com/article/081/0003332334?ntype=RANKING\n",
      "None None https://n.news.naver.com/article/081/0003332330?ntype=RANKING\n",
      "None None https://n.news.naver.com/article/277/0005204644?ntype=RANKING\n",
      "None None https://n.news.naver.com/article/277/0005205050?ntype=RANKING\n",
      "None None https://n.news.naver.com/article/277/0005204989?ntype=RANKING\n",
      "None None https://n.news.naver.com/article/277/0005205045?ntype=RANKING\n",
      "None None https://n.news.naver.com/article/277/0005205011?ntype=RANKING\n",
      "None None https://n.news.naver.com/article/366/0000869763?ntype=RANKING\n",
      "None None https://n.news.naver.com/article/366/0000869762?ntype=RANKING\n",
      "None None https://n.news.naver.com/article/366/0000869764?ntype=RANKING\n",
      "None None https://n.news.naver.com/article/366/0000869760?ntype=RANKING\n",
      "None None https://n.news.naver.com/article/366/0000869702?ntype=RANKING\n",
      "None None https://n.news.naver.com/article/437/0000328734?ntype=RANKING\n",
      "None None https://n.news.naver.com/article/437/0000328728?ntype=RANKING\n",
      "None None https://n.news.naver.com/article/437/0000328726?ntype=RANKING\n",
      "None None https://n.news.naver.com/article/437/0000328721?ntype=RANKING\n",
      "None None https://n.news.naver.com/article/437/0000328739?ntype=RANKING\n"
     ]
    }
   ],
   "source": [
    "from bs4 import BeautifulSoup \n",
    "import requests\n",
    "\n",
    "URL = 'https://news.naver.com/main/ranking/popularDay.naver'\n",
    "\n",
    "header = {\"User-Agent\": \"Mozilla/5.0 (Windows NT 10.0; Win64; x64) AppleWebKit/537.36 (KHTML, like Gecko) Chrome/109.0.0.0 Safari/537.36\"}\n",
    "# 봇이 아니라고 치팅해야만 언론사에서 제재하지 않음.\n",
    "\n",
    "res = requests.get(URL, headers = header)\n",
    "soup = BeautifulSoup(res.text, \"html.parser\")\n",
    "\n",
    "rankingnews_boxs = soup.select(\"#wrap > div.rankingnews._popularWelBase._persist > div.rankingnews_box_wrap._popularRanking > div > div\")\n",
    "\n",
    "for rankingnews_box in rankingnews_boxs:\n",
    "  rankingnews_name = rankingnews_box.select_one('a > strong').txt\n",
    "  rankingnews_lists = rankingnews_box.select('ul > li')\n",
    "  for rankingnews_list in rankingnews_lists:\n",
    "    rank =  rankingnews_list.select_one('em').txt\n",
    "    title = rankingnews_list.select_one('div > a').txt\n",
    "    url =   rankingnews_list.select_one('div > a')['href']\n",
    "    print(rank, title, url)\n"
   ]
  }
 ],
 "metadata": {
  "kernelspec": {
   "display_name": "Python 3",
   "language": "python",
   "name": "python3"
  },
  "language_info": {
   "codemirror_mode": {
    "name": "ipython",
    "version": 3
   },
   "file_extension": ".py",
   "mimetype": "text/x-python",
   "name": "python",
   "nbconvert_exporter": "python",
   "pygments_lexer": "ipython3",
   "version": "3.11.1"
  },
  "orig_nbformat": 4,
  "vscode": {
   "interpreter": {
    "hash": "204ebff125a4ce0c97f45b8c7a07409eb30b7fec11a945dc78c9d1c608b78b45"
   }
  }
 },
 "nbformat": 4,
 "nbformat_minor": 2
}
